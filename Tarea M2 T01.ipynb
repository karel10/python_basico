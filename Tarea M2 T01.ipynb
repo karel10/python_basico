{
 "cells": [
  {
   "cell_type": "markdown",
   "id": "de2c5491",
   "metadata": {},
   "source": [
    "# Tarea M2 T01"
   ]
  },
  {
   "cell_type": "markdown",
   "id": "bfad7db6",
   "metadata": {},
   "source": [
    "## Ejercicio 1\n",
    "\n",
    "Crear una lista con cuatro elementos que sean listas, y que globalmente recojan los meses del año, por trimestres."
   ]
  },
  {
   "cell_type": "code",
   "execution_count": 2,
   "id": "bd184a5c",
   "metadata": {},
   "outputs": [
    {
     "data": {
      "text/plain": [
       "[['enero', 'febrero', 'marzo'],\n",
       " ['abril', 'mayo', 'junio'],\n",
       " ['julio', 'agosto', 'septiembre'],\n",
       " ['octubre', 'noviembre', 'diciembre']]"
      ]
     },
     "execution_count": 2,
     "metadata": {},
     "output_type": "execute_result"
    }
   ],
   "source": [
    "trim_uno=[\"enero\", \"febrero\", \"marzo\"]\n",
    "trim_dos=[\"abril\", \"mayo\", \"junio\"]\n",
    "trim_tres=[\"julio\", \"agosto\", \"septiembre\"]\n",
    "trim_cuatro=[\"octubre\", \"noviembre\", \"diciembre\"]\n",
    "\n",
    "lista_anyo = [trim_uno, trim_dos, trim_tres, trim_cuatro]\n",
    "lista_anyo"
   ]
  },
  {
   "cell_type": "markdown",
   "id": "ab974cdd",
   "metadata": {},
   "source": [
    "## Ejercicio 2\n",
    "\n",
    "Crear código para acceder al segundo mes del primer trimestre, a los meses del segundo trimestre, y a \"septiembre y octubre\".\n"
   ]
  },
  {
   "cell_type": "code",
   "execution_count": 6,
   "id": "e30509ce",
   "metadata": {},
   "outputs": [
    {
     "data": {
      "text/plain": [
       "'febrero'"
      ]
     },
     "execution_count": 6,
     "metadata": {},
     "output_type": "execute_result"
    }
   ],
   "source": [
    "T1_mes2 = lista_anyo[0][1]\n",
    "\n",
    "# Segundo mes del primer trimestre.\n",
    "T1_mes2"
   ]
  },
  {
   "cell_type": "code",
   "execution_count": 7,
   "id": "11fa2560",
   "metadata": {},
   "outputs": [
    {
     "data": {
      "text/plain": [
       "['abril', 'mayo', 'junio']"
      ]
     },
     "execution_count": 7,
     "metadata": {},
     "output_type": "execute_result"
    }
   ],
   "source": [
    "T2 = lista_anyo[1]\n",
    "\n",
    "# Los meses del segundo trimestre.\n",
    "T2"
   ]
  },
  {
   "cell_type": "code",
   "execution_count": 10,
   "id": "98a13fca",
   "metadata": {},
   "outputs": [
    {
     "data": {
      "text/plain": [
       "['septiembre', 'octubre']"
      ]
     },
     "execution_count": 10,
     "metadata": {},
     "output_type": "execute_result"
    }
   ],
   "source": [
    "sept_y_oct = [lista_anyo[2][2], lista_anyo[3][0]]\n",
    "\n",
    "# El mes de septiembre y el mes de octubre.\n",
    "sept_y_oct"
   ]
  },
  {
   "cell_type": "markdown",
   "id": "d10d5d6d",
   "metadata": {},
   "source": [
    "## Ejercicio 3"
   ]
  },
  {
   "cell_type": "markdown",
   "id": "e2ff38da",
   "metadata": {},
   "source": [
    "Crear una lista desordenada de números y responder:\n",
    "\n",
    "* ¿Cuántos números hay?\n",
    "    \n",
    "* ¿Cuántas veces aparece el número tres?\n",
    "    \n",
    "* ¿Cuántas veces aparecen los números tres y cuatro?\n",
    "    \n",
    "* ¿Cuál es el número más grande?\n",
    "    \n",
    "* ¿Cuáles son los números más pequeños?\n",
    "    \n",
    "* ¿Cuál es el rango de la lista?\n",
    "    "
   ]
  },
  {
   "cell_type": "code",
   "execution_count": 1,
   "id": "43e614b6",
   "metadata": {},
   "outputs": [],
   "source": [
    "# Esta lista fue escrita aleatoriamente, a mano:\n",
    "\n",
    "lista_desordenada= [3,6,1,9,6,4,0,9,11,5,5,3,2,6,8,9,78,6,1,1,432,8,0,9,0,7,9,2,72,8]"
   ]
  },
  {
   "cell_type": "markdown",
   "id": "e5d6d0ab",
   "metadata": {},
   "source": [
    "Cantidad de números (diferentes) que contiene la lista:"
   ]
  },
  {
   "cell_type": "code",
   "execution_count": 2,
   "id": "866321f7",
   "metadata": {},
   "outputs": [
    {
     "data": {
      "text/plain": [
       "14"
      ]
     },
     "execution_count": 2,
     "metadata": {},
     "output_type": "execute_result"
    }
   ],
   "source": [
    "conjunto = set(lista_desordenada)  # Al convertir a \"set\", se eliminan las repeticiones.\n",
    "\n",
    "len(conjunto)"
   ]
  },
  {
   "cell_type": "markdown",
   "id": "a09b55ff",
   "metadata": {},
   "source": [
    "Número de apariciones del número tres:"
   ]
  },
  {
   "cell_type": "code",
   "execution_count": 3,
   "id": "c533d2c4",
   "metadata": {},
   "outputs": [
    {
     "data": {
      "text/plain": [
       "2"
      ]
     },
     "execution_count": 3,
     "metadata": {},
     "output_type": "execute_result"
    }
   ],
   "source": [
    "lista_desordenada.count(3)"
   ]
  },
  {
   "cell_type": "markdown",
   "id": "1332c2ac",
   "metadata": {},
   "source": [
    "Número de apariciones de los números tres y cuatro:"
   ]
  },
  {
   "cell_type": "code",
   "execution_count": 4,
   "id": "41a9036e",
   "metadata": {},
   "outputs": [
    {
     "name": "stdout",
     "output_type": "stream",
     "text": [
      "Hay 2 treses y 1 cuatros.\n"
     ]
    },
    {
     "data": {
      "text/plain": [
       "(2, 1)"
      ]
     },
     "execution_count": 4,
     "metadata": {},
     "output_type": "execute_result"
    }
   ],
   "source": [
    "def mirar_tres_y_cuatro(list):\n",
    "    tres = list.count(3)\n",
    "    cuatro = list.count(4)\n",
    "    \n",
    "    print( \"Hay \" + str(tres) + \" treses y \" + str(cuatro) + \" cuatros.\")\n",
    "    return tres, cuatro\n",
    "\n",
    "mirar_tres_y_cuatro(lista_desordenada)"
   ]
  },
  {
   "cell_type": "markdown",
   "id": "92599e87",
   "metadata": {},
   "source": [
    "Encontrar el valor máximo de la lista:"
   ]
  },
  {
   "cell_type": "code",
   "execution_count": 5,
   "id": "af3d7e1b",
   "metadata": {},
   "outputs": [
    {
     "data": {
      "text/plain": [
       "432"
      ]
     },
     "execution_count": 5,
     "metadata": {},
     "output_type": "execute_result"
    }
   ],
   "source": [
    "max(lista_desordenada)"
   ]
  },
  {
   "cell_type": "markdown",
   "id": "1598e045",
   "metadata": {},
   "source": [
    "Cuáles son los tres números más pequeños que hay en la lista:"
   ]
  },
  {
   "cell_type": "code",
   "execution_count": 6,
   "id": "b81ea405",
   "metadata": {},
   "outputs": [],
   "source": [
    "lista_ordenada = lista_desordenada.copy()   # El copy() es para evitar modificar la lista original.\n",
    "lista_ordenada.sort()"
   ]
  },
  {
   "cell_type": "code",
   "execution_count": 7,
   "id": "e90ee8b0",
   "metadata": {},
   "outputs": [
    {
     "name": "stdout",
     "output_type": "stream",
     "text": [
      "[0, 0, 0, 1, 1, 1, 2, 2, 3, 3, 4, 5, 5, 6, 6, 6, 6, 7, 8, 8, 8, 9, 9, 9, 9, 9, 11, 72, 78, 432]\n"
     ]
    }
   ],
   "source": [
    "print(lista_ordenada)"
   ]
  },
  {
   "cell_type": "code",
   "execution_count": 8,
   "id": "8886aee2",
   "metadata": {},
   "outputs": [
    {
     "data": {
      "text/plain": [
       "[0, 0, 0]"
      ]
     },
     "execution_count": 8,
     "metadata": {},
     "output_type": "execute_result"
    }
   ],
   "source": [
    "lista_ordenada[0:3]\n",
    "\n",
    "# Vemos que los números más pequeños son tres ceros. O el cero, el uno y el dos, si no cuentan repetidos."
   ]
  },
  {
   "cell_type": "markdown",
   "id": "fd17a0b5",
   "metadata": {},
   "source": [
    "O si quisiéramos saber los números más pequeños, pero sin contar las repeticiones:"
   ]
  },
  {
   "cell_type": "code",
   "execution_count": 9,
   "id": "dda27d01",
   "metadata": {},
   "outputs": [
    {
     "data": {
      "text/plain": [
       "[0, 1, 2]"
      ]
     },
     "execution_count": 9,
     "metadata": {},
     "output_type": "execute_result"
    }
   ],
   "source": [
    "set_lista_ordenada = set(lista_ordenada)\n",
    "unique_lista_ordenada = list(set_lista_ordenada)\n",
    "unique_lista_ordenada[0:3]"
   ]
  },
  {
   "cell_type": "markdown",
   "id": "1ce19652",
   "metadata": {},
   "source": [
    "Rango de la lista (diferencia entre el valor máximo y el mínimo):"
   ]
  },
  {
   "cell_type": "code",
   "execution_count": 11,
   "id": "a5124f5f",
   "metadata": {},
   "outputs": [
    {
     "data": {
      "text/plain": [
       "432"
      ]
     },
     "execution_count": 11,
     "metadata": {},
     "output_type": "execute_result"
    }
   ],
   "source": [
    "max(lista_ordenada) - min(lista_ordenada)"
   ]
  },
  {
   "cell_type": "markdown",
   "id": "fe33100d",
   "metadata": {},
   "source": [
    "## Ejercicio 4:"
   ]
  },
  {
   "cell_type": "markdown",
   "id": "3f2407ab",
   "metadata": {},
   "source": [
    "Crear el siguiente diccionario y resolver las siguientes cuestiones:"
   ]
  },
  {
   "cell_type": "code",
   "execution_count": 13,
   "id": "40b72cba",
   "metadata": {},
   "outputs": [],
   "source": [
    "compra = { \"Pomes\" : {\"Qty\": 5, \"€\": 0.42}, \"Peres\" : {\"Qty\": 3, \"€\": 0.66} }"
   ]
  },
  {
   "cell_type": "markdown",
   "id": "d7972ac3",
   "metadata": {},
   "source": [
    "Añadir alguna fruta más:"
   ]
  },
  {
   "cell_type": "code",
   "execution_count": 15,
   "id": "911710e9",
   "metadata": {},
   "outputs": [],
   "source": [
    "compra.update({\"Physalis\": {\"Qty\": 99, \"€\": 0.99}})\n"
   ]
  },
  {
   "cell_type": "code",
   "execution_count": 16,
   "id": "9301afb6",
   "metadata": {},
   "outputs": [
    {
     "data": {
      "text/plain": [
       "{'Pomes': {'Qty': 5, '€': 0.42},\n",
       " 'Peres': {'Qty': 3, '€': 0.66},\n",
       " 'Physalis': {'Qty': 99, '€': 0.99}}"
      ]
     },
     "execution_count": 16,
     "metadata": {},
     "output_type": "execute_result"
    }
   ],
   "source": [
    "compra"
   ]
  },
  {
   "cell_type": "markdown",
   "id": "0cabe282",
   "metadata": {},
   "source": [
    "¿Cuánto han costado las peras?"
   ]
  },
  {
   "cell_type": "code",
   "execution_count": 17,
   "id": "cc78830d",
   "metadata": {},
   "outputs": [
    {
     "name": "stdout",
     "output_type": "stream",
     "text": [
      "Las peras costaron 0.66 Euros.\n"
     ]
    }
   ],
   "source": [
    "coste_peras = compra[\"Peres\"][\"€\"]\n",
    "print(\"Las peras costaron \" + str(coste_peras) + \" Euros.\")"
   ]
  },
  {
   "cell_type": "markdown",
   "id": "e51fb24f",
   "metadata": {},
   "source": [
    "¿Cuántas frutas hemos comprado?"
   ]
  },
  {
   "cell_type": "code",
   "execution_count": 18,
   "id": "3bcb1705",
   "metadata": {},
   "outputs": [
    {
     "name": "stdout",
     "output_type": "stream",
     "text": [
      "Hemos comprado 107 frutas.\n"
     ]
    }
   ],
   "source": [
    "\n",
    "cantidad_frutas = 0\n",
    "for element in compra:\n",
    "    cantidad_frutas = cantidad_frutas + compra[element]['Qty']\n",
    "    \n",
    "print(\"Hemos comprado \" + str(cantidad_frutas) + \" frutas.\")"
   ]
  },
  {
   "cell_type": "markdown",
   "id": "21e9fa6e",
   "metadata": {},
   "source": [
    "¿Cuál es la fruta más cara?"
   ]
  },
  {
   "cell_type": "code",
   "execution_count": 20,
   "id": "d3cd7062",
   "metadata": {},
   "outputs": [
    {
     "name": "stdout",
     "output_type": "stream",
     "text": [
      "El precio máximo es 0.99 Euros.\n",
      "La fruta más cara es el Physalis.\n"
     ]
    }
   ],
   "source": [
    "precio_max = 0\n",
    "fruta_cara = \"\"\n",
    "for element in compra:\n",
    "    precio = compra[element][\"€\"]\n",
    "    if precio_max < precio:\n",
    "        precio_max = precio\n",
    "        fruta_cara= element\n",
    "    else:\n",
    "        precio_max = precio_max\n",
    "\n",
    "print(\"El precio máximo es \" + str(precio_max) + \" Euros.\")\n",
    "print(\"La fruta más cara es el {}.\".format(fruta_cara))"
   ]
  },
  {
   "cell_type": "code",
   "execution_count": null,
   "id": "4d6bae53",
   "metadata": {},
   "outputs": [],
   "source": []
  }
 ],
 "metadata": {
  "kernelspec": {
   "display_name": "Python 3 (ipykernel)",
   "language": "python",
   "name": "python3"
  },
  "language_info": {
   "codemirror_mode": {
    "name": "ipython",
    "version": 3
   },
   "file_extension": ".py",
   "mimetype": "text/x-python",
   "name": "python",
   "nbconvert_exporter": "python",
   "pygments_lexer": "ipython3",
   "version": "3.8.13"
  }
 },
 "nbformat": 4,
 "nbformat_minor": 5
}
