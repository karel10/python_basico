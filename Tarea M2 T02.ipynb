{
 "cells": [
  {
   "cell_type": "markdown",
   "id": "cf3f7fc1",
   "metadata": {},
   "source": [
    "# Tarea M2 T02"
   ]
  },
  {
   "cell_type": "markdown",
   "id": "8ee606aa",
   "metadata": {},
   "source": [
    "## Ejercicio 1"
   ]
  },
  {
   "cell_type": "raw",
   "id": "d83e2d40",
   "metadata": {},
   "source": [
    "Crear una función que clasifique números entre el cero y el diez como Suspendido (<5), Aprobado (>5 y <7), Notable (>7 y <9) y Excelente (>9)."
   ]
  },
  {
   "cell_type": "code",
   "execution_count": 1,
   "id": "0128b75f",
   "metadata": {},
   "outputs": [],
   "source": [
    "dummy_mark =8"
   ]
  },
  {
   "cell_type": "code",
   "execution_count": 2,
   "id": "fe4d4be8",
   "metadata": {},
   "outputs": [],
   "source": [
    "def comprobar_notas(mark):\n",
    "    nota = \"Suspenso\"\n",
    "    if mark <5:\n",
    "        nota = \"Suspenso\"\n",
    "    elif mark < 7:\n",
    "        nota = \"Aprobado\"\n",
    "    elif mark < 9:\n",
    "        nota = \"Notable\"\n",
    "    else:\n",
    "        nota = \"Excelente\"\n",
    "    \n",
    "    return nota\n"
   ]
  },
  {
   "cell_type": "code",
   "execution_count": 3,
   "id": "392350a3",
   "metadata": {},
   "outputs": [
    {
     "data": {
      "text/plain": [
       "'Notable'"
      ]
     },
     "execution_count": 3,
     "metadata": {},
     "output_type": "execute_result"
    }
   ],
   "source": [
    "comprobar_notas(dummy_mark)"
   ]
  },
  {
   "cell_type": "markdown",
   "id": "e25d6652",
   "metadata": {},
   "source": [
    "## Ejercio 2"
   ]
  },
  {
   "cell_type": "markdown",
   "id": "5a54bf2f",
   "metadata": {},
   "source": [
    "Crear una función que pregunte dos números, y que nos responda diciendo si es más grande el primero, el segundo, o si son iguales. Hay que usar la información de este tutorial para lograrlo:\n",
    "\n",
    "[->Programiz: Python Input, Output and Import](https://www.programiz.com/python-programming/input-output-import)"
   ]
  },
  {
   "cell_type": "code",
   "execution_count": 15,
   "id": "3b8fb712",
   "metadata": {},
   "outputs": [],
   "source": [
    "def preguntar_numeros():\n",
    "    num1 = input(\"Por favor introduce un número. \")\n",
    "    num2 = input(\"\\nY ahora por favor introduce un segundo número. \\nVamos a compararlo con el primero. \")\n",
    "    \n",
    "    if num1 > num2:\n",
    "        print(\"\\nEl primer número es mayor que el segundo.\")\n",
    "    elif num1< num2:\n",
    "        print(\"\\nEl segundo número es mayor que el primero.\")\n",
    "    else:\n",
    "        print(\"\\nLos dos números son iguales.\")"
   ]
  },
  {
   "cell_type": "code",
   "execution_count": 16,
   "id": "4b3abf9f",
   "metadata": {},
   "outputs": [
    {
     "name": "stdout",
     "output_type": "stream",
     "text": [
      "Por favor introduce un número. 3\n",
      "\n",
      "Y ahora por favor introduce un segundo número. \n",
      "Vamos a compararlo con el primero. 8\n",
      "\n",
      "El segundo número es mayor que el primero.\n"
     ]
    }
   ],
   "source": [
    "preguntar_numeros()"
   ]
  },
  {
   "cell_type": "markdown",
   "id": "0991ee9f",
   "metadata": {},
   "source": [
    "## Ejercicio 3:"
   ]
  },
  {
   "cell_type": "markdown",
   "id": "f5e204ad",
   "metadata": {},
   "source": [
    "Crear una función que pregunte tu nombre, y luego un número. Si el número es cero, debe mostrar un mensaje de error. Si es otro número, ha de mostrar el nombre ese número de veces."
   ]
  },
  {
   "cell_type": "code",
   "execution_count": 5,
   "id": "5256ca21",
   "metadata": {},
   "outputs": [],
   "source": [
    "def repetir_nombre():\n",
    "    nombre = input(\"Por favor, dime tu nombre. \")\n",
    "    repeticiones = input(\"Por favor, teclea un número entero positivo que no sea cero. \")\n",
    "    repeticiones = int(repeticiones)   # Hay que convertirlo a entero porque inicialmente es string.\n",
    "    if repeticiones == 0:\n",
    "        print(\"{}, el número cero no es válido.\".format(nombre))\n",
    "    else:\n",
    "        print(repeticiones*(nombre+\" \"))\n",
    "    \n",
    "    return"
   ]
  },
  {
   "cell_type": "code",
   "execution_count": 6,
   "id": "f1afa193",
   "metadata": {},
   "outputs": [
    {
     "name": "stdout",
     "output_type": "stream",
     "text": [
      "Por favor, dime tu nombre. Karel\n",
      "Por favor, teclea un número entero positivo que no sea cero. 0\n",
      "Karel, el número cero no es válido.\n"
     ]
    }
   ],
   "source": [
    "repetir_nombre()"
   ]
  },
  {
   "cell_type": "code",
   "execution_count": 7,
   "id": "59251a6b",
   "metadata": {},
   "outputs": [
    {
     "name": "stdout",
     "output_type": "stream",
     "text": [
      "Por favor, dime tu nombre. Karel\n",
      "Por favor, teclea un número entero positivo que no sea cero. 4\n",
      "Karel Karel Karel Karel \n"
     ]
    }
   ],
   "source": [
    "repetir_nombre()"
   ]
  },
  {
   "cell_type": "markdown",
   "id": "0f01ab04",
   "metadata": {},
   "source": [
    "## Ejercicio 4"
   ]
  },
  {
   "cell_type": "markdown",
   "id": "c4980b6f",
   "metadata": {},
   "source": [
    "Crear una función que, dada una lista cualquiera, diga si es simétrica o no. Si lo es, que diga cuántos elementos tiene."
   ]
  },
  {
   "cell_type": "code",
   "execution_count": null,
   "id": "ef7dcac5",
   "metadata": {},
   "outputs": [],
   "source": [
    "# Para responder esto, consideremos si influye que hay dos casos posibles de lista simétrica:\n",
    "# a) Con un número par de elementos: [a, b, c, c, b, a]\n",
    "# b) Con un número par de elementos. [a, b, c, b, a]\n",
    "# Habremos considerar esto para la solución."
   ]
  },
  {
   "cell_type": "code",
   "execution_count": 36,
   "id": "0e3d51fc",
   "metadata": {},
   "outputs": [],
   "source": [
    "test_list = [\"a\", \"b\", \"c\", \"b\", \"a\"]\n",
    "test_list2 = [\"a\", \"b\", \"c\", \"c\", \"b\", \"a\"]\n",
    "test_list3 = [\"a\", \"b\", \"c\"]"
   ]
  },
  {
   "cell_type": "code",
   "execution_count": 35,
   "id": "0b84da09",
   "metadata": {},
   "outputs": [],
   "source": [
    "def comprobar_simetria(lista):\n",
    "    longitud = len(lista)\n",
    "    simetria = False\n",
    "    for i in range(0, len(lista)):\n",
    "        if lista[i] == lista[len(lista) - (i+1)]:\n",
    "            simetria = True\n",
    "        else:\n",
    "            simetria = False\n",
    "            break\n",
    "    \n",
    "    if simetria == True:\n",
    "        print(\"La lista es simétrica.\")\n",
    "        print(\"Además, tiene {} elementos.\".format(len(lista)))\n",
    "    else:\n",
    "        print(\"La lista no es simétrica.\")\n",
    "    \n",
    "    return\n"
   ]
  },
  {
   "cell_type": "code",
   "execution_count": 37,
   "id": "47a6f05c",
   "metadata": {},
   "outputs": [
    {
     "name": "stdout",
     "output_type": "stream",
     "text": [
      "La lista es simétrica.\n",
      "Además, tiene 5 elementos.\n"
     ]
    }
   ],
   "source": [
    "comprobar_simetria(test_list)"
   ]
  },
  {
   "cell_type": "code",
   "execution_count": 38,
   "id": "e7a98df7",
   "metadata": {},
   "outputs": [
    {
     "name": "stdout",
     "output_type": "stream",
     "text": [
      "La lista es simétrica.\n",
      "Además, tiene 6 elementos.\n"
     ]
    }
   ],
   "source": [
    "comprobar_simetria(test_list2)"
   ]
  },
  {
   "cell_type": "code",
   "execution_count": 39,
   "id": "30c754eb",
   "metadata": {},
   "outputs": [
    {
     "name": "stdout",
     "output_type": "stream",
     "text": [
      "La lista no es simétrica.\n"
     ]
    }
   ],
   "source": [
    "comprobar_simetria(test_list3)"
   ]
  },
  {
   "cell_type": "markdown",
   "id": "c5d56f1b",
   "metadata": {},
   "source": [
    "## Ejercicio 5:"
   ]
  },
  {
   "cell_type": "markdown",
   "id": "f5cf2f38",
   "metadata": {},
   "source": [
    "Crear una función que, dada una lista, diga cuántos números tienen el mismo valor que su posición según la nomenclatura de Python (0,1,2...)."
   ]
  },
  {
   "cell_type": "code",
   "execution_count": null,
   "id": "cdf35ef3",
   "metadata": {},
   "outputs": [],
   "source": [
    "# Por ejemplo: [3,4,2,0,2,3,6] el 2 y el 6 coinciden con su posición en Python."
   ]
  },
  {
   "cell_type": "code",
   "execution_count": 40,
   "id": "1aee7ca0",
   "metadata": {},
   "outputs": [],
   "source": [
    "lista_numeros = [3,4,2,0,2,3,6]"
   ]
  },
  {
   "cell_type": "code",
   "execution_count": 45,
   "id": "eab589b9",
   "metadata": {},
   "outputs": [],
   "source": [
    "def numeros_posicion(lista):\n",
    "    contador = 0\n",
    "    for i in range(0, len(lista)):\n",
    "        if lista[i] == i:\n",
    "            contador = contador + 1\n",
    "        else:\n",
    "            continue\n",
    "    \n",
    "    print(\"Hay {} números que tienen el mismo valor que la posición en que se encuentran.\".format(contador))\n",
    "        \n",
    "    return    "
   ]
  },
  {
   "cell_type": "code",
   "execution_count": 46,
   "id": "31880207",
   "metadata": {},
   "outputs": [
    {
     "name": "stdout",
     "output_type": "stream",
     "text": [
      "Hay 2 números que tienen el mismo valor que la posición en que se encuentran.\n"
     ]
    }
   ],
   "source": [
    "numeros_posicion(lista_numeros)"
   ]
  },
  {
   "cell_type": "code",
   "execution_count": 47,
   "id": "c25a082f",
   "metadata": {},
   "outputs": [],
   "source": [
    "otra_lista = [0,1,2,3,4,5,6,7,8,9]"
   ]
  },
  {
   "cell_type": "code",
   "execution_count": 48,
   "id": "b0f07fb8",
   "metadata": {},
   "outputs": [
    {
     "name": "stdout",
     "output_type": "stream",
     "text": [
      "Hay 10 números que tienen el mismo valor que la posición en que se encuentran.\n"
     ]
    }
   ],
   "source": [
    "numeros_posicion(otra_lista)"
   ]
  },
  {
   "cell_type": "code",
   "execution_count": null,
   "id": "fd19938e",
   "metadata": {},
   "outputs": [],
   "source": []
  },
  {
   "cell_type": "code",
   "execution_count": null,
   "id": "b841f23c",
   "metadata": {},
   "outputs": [],
   "source": []
  }
 ],
 "metadata": {
  "kernelspec": {
   "display_name": "Python 3 (ipykernel)",
   "language": "python",
   "name": "python3"
  },
  "language_info": {
   "codemirror_mode": {
    "name": "ipython",
    "version": 3
   },
   "file_extension": ".py",
   "mimetype": "text/x-python",
   "name": "python",
   "nbconvert_exporter": "python",
   "pygments_lexer": "ipython3",
   "version": "3.8.13"
  }
 },
 "nbformat": 4,
 "nbformat_minor": 5
}
